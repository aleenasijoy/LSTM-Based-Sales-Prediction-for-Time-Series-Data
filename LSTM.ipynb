{
  "nbformat": 4,
  "nbformat_minor": 0,
  "metadata": {
    "colab": {
      "provenance": []
    },
    "kernelspec": {
      "name": "python3",
      "display_name": "Python 3"
    },
    "language_info": {
      "name": "python"
    }
  },
  "cells": [
    {
      "cell_type": "code",
      "execution_count": null,
      "metadata": {
        "id": "B2v266hW556_"
      },
      "outputs": [],
      "source": [
        "import os\n",
        "import numpy as np\n",
        "import pandas as pd\n",
        "from tensorflow.keras.layers import Dense,LSTM\n",
        "from sklearn.preprocessing import MinMaxScaler\n",
        "from tensorflow.keras.models import Sequential\n",
        "import matplotlib.pyplot as plt\n",
        "from keras.preprocessing.sequence import TimeseriesGenerator"
      ]
    },
    {
      "cell_type": "code",
      "source": [
        "data=pd.read_csv('/content/data.csv',index_col='Month',parse_dates=True)\n",
        "data"
      ],
      "metadata": {
        "colab": {
          "base_uri": "https://localhost:8080/",
          "height": 455
        },
        "id": "sMbqCb3U6C3V",
        "outputId": "339fc03b-065c-4660-912e-73846fb2f881"
      },
      "execution_count": null,
      "outputs": [
        {
          "output_type": "execute_result",
          "data": {
            "text/plain": [
              "            Sales\n",
              "Month            \n",
              "1964-01-01   2815\n",
              "1964-02-01   2672\n",
              "1964-03-01   2755\n",
              "1964-04-01   2721\n",
              "1964-05-01   2946\n",
              "...           ...\n",
              "1972-05-01   4618\n",
              "1972-06-01   5312\n",
              "1972-07-01   4298\n",
              "1972-08-01   1413\n",
              "1972-09-01   5877\n",
              "\n",
              "[105 rows x 1 columns]"
            ],
            "text/html": [
              "\n",
              "  <div id=\"df-610c837c-48d4-440d-a02c-302c59282723\" class=\"colab-df-container\">\n",
              "    <div>\n",
              "<style scoped>\n",
              "    .dataframe tbody tr th:only-of-type {\n",
              "        vertical-align: middle;\n",
              "    }\n",
              "\n",
              "    .dataframe tbody tr th {\n",
              "        vertical-align: top;\n",
              "    }\n",
              "\n",
              "    .dataframe thead th {\n",
              "        text-align: right;\n",
              "    }\n",
              "</style>\n",
              "<table border=\"1\" class=\"dataframe\">\n",
              "  <thead>\n",
              "    <tr style=\"text-align: right;\">\n",
              "      <th></th>\n",
              "      <th>Sales</th>\n",
              "    </tr>\n",
              "    <tr>\n",
              "      <th>Month</th>\n",
              "      <th></th>\n",
              "    </tr>\n",
              "  </thead>\n",
              "  <tbody>\n",
              "    <tr>\n",
              "      <th>1964-01-01</th>\n",
              "      <td>2815</td>\n",
              "    </tr>\n",
              "    <tr>\n",
              "      <th>1964-02-01</th>\n",
              "      <td>2672</td>\n",
              "    </tr>\n",
              "    <tr>\n",
              "      <th>1964-03-01</th>\n",
              "      <td>2755</td>\n",
              "    </tr>\n",
              "    <tr>\n",
              "      <th>1964-04-01</th>\n",
              "      <td>2721</td>\n",
              "    </tr>\n",
              "    <tr>\n",
              "      <th>1964-05-01</th>\n",
              "      <td>2946</td>\n",
              "    </tr>\n",
              "    <tr>\n",
              "      <th>...</th>\n",
              "      <td>...</td>\n",
              "    </tr>\n",
              "    <tr>\n",
              "      <th>1972-05-01</th>\n",
              "      <td>4618</td>\n",
              "    </tr>\n",
              "    <tr>\n",
              "      <th>1972-06-01</th>\n",
              "      <td>5312</td>\n",
              "    </tr>\n",
              "    <tr>\n",
              "      <th>1972-07-01</th>\n",
              "      <td>4298</td>\n",
              "    </tr>\n",
              "    <tr>\n",
              "      <th>1972-08-01</th>\n",
              "      <td>1413</td>\n",
              "    </tr>\n",
              "    <tr>\n",
              "      <th>1972-09-01</th>\n",
              "      <td>5877</td>\n",
              "    </tr>\n",
              "  </tbody>\n",
              "</table>\n",
              "<p>105 rows × 1 columns</p>\n",
              "</div>\n",
              "    <div class=\"colab-df-buttons\">\n",
              "\n",
              "  <div class=\"colab-df-container\">\n",
              "    <button class=\"colab-df-convert\" onclick=\"convertToInteractive('df-610c837c-48d4-440d-a02c-302c59282723')\"\n",
              "            title=\"Convert this dataframe to an interactive table.\"\n",
              "            style=\"display:none;\">\n",
              "\n",
              "  <svg xmlns=\"http://www.w3.org/2000/svg\" height=\"24px\" viewBox=\"0 -960 960 960\">\n",
              "    <path d=\"M120-120v-720h720v720H120Zm60-500h600v-160H180v160Zm220 220h160v-160H400v160Zm0 220h160v-160H400v160ZM180-400h160v-160H180v160Zm440 0h160v-160H620v160ZM180-180h160v-160H180v160Zm440 0h160v-160H620v160Z\"/>\n",
              "  </svg>\n",
              "    </button>\n",
              "\n",
              "  <style>\n",
              "    .colab-df-container {\n",
              "      display:flex;\n",
              "      gap: 12px;\n",
              "    }\n",
              "\n",
              "    .colab-df-convert {\n",
              "      background-color: #E8F0FE;\n",
              "      border: none;\n",
              "      border-radius: 50%;\n",
              "      cursor: pointer;\n",
              "      display: none;\n",
              "      fill: #1967D2;\n",
              "      height: 32px;\n",
              "      padding: 0 0 0 0;\n",
              "      width: 32px;\n",
              "    }\n",
              "\n",
              "    .colab-df-convert:hover {\n",
              "      background-color: #E2EBFA;\n",
              "      box-shadow: 0px 1px 2px rgba(60, 64, 67, 0.3), 0px 1px 3px 1px rgba(60, 64, 67, 0.15);\n",
              "      fill: #174EA6;\n",
              "    }\n",
              "\n",
              "    .colab-df-buttons div {\n",
              "      margin-bottom: 4px;\n",
              "    }\n",
              "\n",
              "    [theme=dark] .colab-df-convert {\n",
              "      background-color: #3B4455;\n",
              "      fill: #D2E3FC;\n",
              "    }\n",
              "\n",
              "    [theme=dark] .colab-df-convert:hover {\n",
              "      background-color: #434B5C;\n",
              "      box-shadow: 0px 1px 3px 1px rgba(0, 0, 0, 0.15);\n",
              "      filter: drop-shadow(0px 1px 2px rgba(0, 0, 0, 0.3));\n",
              "      fill: #FFFFFF;\n",
              "    }\n",
              "  </style>\n",
              "\n",
              "    <script>\n",
              "      const buttonEl =\n",
              "        document.querySelector('#df-610c837c-48d4-440d-a02c-302c59282723 button.colab-df-convert');\n",
              "      buttonEl.style.display =\n",
              "        google.colab.kernel.accessAllowed ? 'block' : 'none';\n",
              "\n",
              "      async function convertToInteractive(key) {\n",
              "        const element = document.querySelector('#df-610c837c-48d4-440d-a02c-302c59282723');\n",
              "        const dataTable =\n",
              "          await google.colab.kernel.invokeFunction('convertToInteractive',\n",
              "                                                    [key], {});\n",
              "        if (!dataTable) return;\n",
              "\n",
              "        const docLinkHtml = 'Like what you see? Visit the ' +\n",
              "          '<a target=\"_blank\" href=https://colab.research.google.com/notebooks/data_table.ipynb>data table notebook</a>'\n",
              "          + ' to learn more about interactive tables.';\n",
              "        element.innerHTML = '';\n",
              "        dataTable['output_type'] = 'display_data';\n",
              "        await google.colab.output.renderOutput(dataTable, element);\n",
              "        const docLink = document.createElement('div');\n",
              "        docLink.innerHTML = docLinkHtml;\n",
              "        element.appendChild(docLink);\n",
              "      }\n",
              "    </script>\n",
              "  </div>\n",
              "\n",
              "\n",
              "<div id=\"df-ddc37115-af61-432c-8abe-b3af639c1db4\">\n",
              "  <button class=\"colab-df-quickchart\" onclick=\"quickchart('df-ddc37115-af61-432c-8abe-b3af639c1db4')\"\n",
              "            title=\"Suggest charts\"\n",
              "            style=\"display:none;\">\n",
              "\n",
              "<svg xmlns=\"http://www.w3.org/2000/svg\" height=\"24px\"viewBox=\"0 0 24 24\"\n",
              "     width=\"24px\">\n",
              "    <g>\n",
              "        <path d=\"M19 3H5c-1.1 0-2 .9-2 2v14c0 1.1.9 2 2 2h14c1.1 0 2-.9 2-2V5c0-1.1-.9-2-2-2zM9 17H7v-7h2v7zm4 0h-2V7h2v10zm4 0h-2v-4h2v4z\"/>\n",
              "    </g>\n",
              "</svg>\n",
              "  </button>\n",
              "\n",
              "<style>\n",
              "  .colab-df-quickchart {\n",
              "      --bg-color: #E8F0FE;\n",
              "      --fill-color: #1967D2;\n",
              "      --hover-bg-color: #E2EBFA;\n",
              "      --hover-fill-color: #174EA6;\n",
              "      --disabled-fill-color: #AAA;\n",
              "      --disabled-bg-color: #DDD;\n",
              "  }\n",
              "\n",
              "  [theme=dark] .colab-df-quickchart {\n",
              "      --bg-color: #3B4455;\n",
              "      --fill-color: #D2E3FC;\n",
              "      --hover-bg-color: #434B5C;\n",
              "      --hover-fill-color: #FFFFFF;\n",
              "      --disabled-bg-color: #3B4455;\n",
              "      --disabled-fill-color: #666;\n",
              "  }\n",
              "\n",
              "  .colab-df-quickchart {\n",
              "    background-color: var(--bg-color);\n",
              "    border: none;\n",
              "    border-radius: 50%;\n",
              "    cursor: pointer;\n",
              "    display: none;\n",
              "    fill: var(--fill-color);\n",
              "    height: 32px;\n",
              "    padding: 0;\n",
              "    width: 32px;\n",
              "  }\n",
              "\n",
              "  .colab-df-quickchart:hover {\n",
              "    background-color: var(--hover-bg-color);\n",
              "    box-shadow: 0 1px 2px rgba(60, 64, 67, 0.3), 0 1px 3px 1px rgba(60, 64, 67, 0.15);\n",
              "    fill: var(--button-hover-fill-color);\n",
              "  }\n",
              "\n",
              "  .colab-df-quickchart-complete:disabled,\n",
              "  .colab-df-quickchart-complete:disabled:hover {\n",
              "    background-color: var(--disabled-bg-color);\n",
              "    fill: var(--disabled-fill-color);\n",
              "    box-shadow: none;\n",
              "  }\n",
              "\n",
              "  .colab-df-spinner {\n",
              "    border: 2px solid var(--fill-color);\n",
              "    border-color: transparent;\n",
              "    border-bottom-color: var(--fill-color);\n",
              "    animation:\n",
              "      spin 1s steps(1) infinite;\n",
              "  }\n",
              "\n",
              "  @keyframes spin {\n",
              "    0% {\n",
              "      border-color: transparent;\n",
              "      border-bottom-color: var(--fill-color);\n",
              "      border-left-color: var(--fill-color);\n",
              "    }\n",
              "    20% {\n",
              "      border-color: transparent;\n",
              "      border-left-color: var(--fill-color);\n",
              "      border-top-color: var(--fill-color);\n",
              "    }\n",
              "    30% {\n",
              "      border-color: transparent;\n",
              "      border-left-color: var(--fill-color);\n",
              "      border-top-color: var(--fill-color);\n",
              "      border-right-color: var(--fill-color);\n",
              "    }\n",
              "    40% {\n",
              "      border-color: transparent;\n",
              "      border-right-color: var(--fill-color);\n",
              "      border-top-color: var(--fill-color);\n",
              "    }\n",
              "    60% {\n",
              "      border-color: transparent;\n",
              "      border-right-color: var(--fill-color);\n",
              "    }\n",
              "    80% {\n",
              "      border-color: transparent;\n",
              "      border-right-color: var(--fill-color);\n",
              "      border-bottom-color: var(--fill-color);\n",
              "    }\n",
              "    90% {\n",
              "      border-color: transparent;\n",
              "      border-bottom-color: var(--fill-color);\n",
              "    }\n",
              "  }\n",
              "</style>\n",
              "\n",
              "  <script>\n",
              "    async function quickchart(key) {\n",
              "      const quickchartButtonEl =\n",
              "        document.querySelector('#' + key + ' button');\n",
              "      quickchartButtonEl.disabled = true;  // To prevent multiple clicks.\n",
              "      quickchartButtonEl.classList.add('colab-df-spinner');\n",
              "      try {\n",
              "        const charts = await google.colab.kernel.invokeFunction(\n",
              "            'suggestCharts', [key], {});\n",
              "      } catch (error) {\n",
              "        console.error('Error during call to suggestCharts:', error);\n",
              "      }\n",
              "      quickchartButtonEl.classList.remove('colab-df-spinner');\n",
              "      quickchartButtonEl.classList.add('colab-df-quickchart-complete');\n",
              "    }\n",
              "    (() => {\n",
              "      let quickchartButtonEl =\n",
              "        document.querySelector('#df-ddc37115-af61-432c-8abe-b3af639c1db4 button');\n",
              "      quickchartButtonEl.style.display =\n",
              "        google.colab.kernel.accessAllowed ? 'block' : 'none';\n",
              "    })();\n",
              "  </script>\n",
              "</div>\n",
              "\n",
              "  <div id=\"id_fe417408-c1c6-4784-bd5d-7e65ffa1edb2\">\n",
              "    <style>\n",
              "      .colab-df-generate {\n",
              "        background-color: #E8F0FE;\n",
              "        border: none;\n",
              "        border-radius: 50%;\n",
              "        cursor: pointer;\n",
              "        display: none;\n",
              "        fill: #1967D2;\n",
              "        height: 32px;\n",
              "        padding: 0 0 0 0;\n",
              "        width: 32px;\n",
              "      }\n",
              "\n",
              "      .colab-df-generate:hover {\n",
              "        background-color: #E2EBFA;\n",
              "        box-shadow: 0px 1px 2px rgba(60, 64, 67, 0.3), 0px 1px 3px 1px rgba(60, 64, 67, 0.15);\n",
              "        fill: #174EA6;\n",
              "      }\n",
              "\n",
              "      [theme=dark] .colab-df-generate {\n",
              "        background-color: #3B4455;\n",
              "        fill: #D2E3FC;\n",
              "      }\n",
              "\n",
              "      [theme=dark] .colab-df-generate:hover {\n",
              "        background-color: #434B5C;\n",
              "        box-shadow: 0px 1px 3px 1px rgba(0, 0, 0, 0.15);\n",
              "        filter: drop-shadow(0px 1px 2px rgba(0, 0, 0, 0.3));\n",
              "        fill: #FFFFFF;\n",
              "      }\n",
              "    </style>\n",
              "    <button class=\"colab-df-generate\" onclick=\"generateWithVariable('data')\"\n",
              "            title=\"Generate code using this dataframe.\"\n",
              "            style=\"display:none;\">\n",
              "\n",
              "  <svg xmlns=\"http://www.w3.org/2000/svg\" height=\"24px\"viewBox=\"0 0 24 24\"\n",
              "       width=\"24px\">\n",
              "    <path d=\"M7,19H8.4L18.45,9,17,7.55,7,17.6ZM5,21V16.75L18.45,3.32a2,2,0,0,1,2.83,0l1.4,1.43a1.91,1.91,0,0,1,.58,1.4,1.91,1.91,0,0,1-.58,1.4L9.25,21ZM18.45,9,17,7.55Zm-12,3A5.31,5.31,0,0,0,4.9,8.1,5.31,5.31,0,0,0,1,6.5,5.31,5.31,0,0,0,4.9,4.9,5.31,5.31,0,0,0,6.5,1,5.31,5.31,0,0,0,8.1,4.9,5.31,5.31,0,0,0,12,6.5,5.46,5.46,0,0,0,6.5,12Z\"/>\n",
              "  </svg>\n",
              "    </button>\n",
              "    <script>\n",
              "      (() => {\n",
              "      const buttonEl =\n",
              "        document.querySelector('#id_fe417408-c1c6-4784-bd5d-7e65ffa1edb2 button.colab-df-generate');\n",
              "      buttonEl.style.display =\n",
              "        google.colab.kernel.accessAllowed ? 'block' : 'none';\n",
              "\n",
              "      buttonEl.onclick = () => {\n",
              "        google.colab.notebook.generateWithVariable('data');\n",
              "      }\n",
              "      })();\n",
              "    </script>\n",
              "  </div>\n",
              "\n",
              "    </div>\n",
              "  </div>\n"
            ],
            "application/vnd.google.colaboratory.intrinsic+json": {
              "type": "dataframe",
              "variable_name": "data",
              "summary": "{\n  \"name\": \"data\",\n  \"rows\": 105,\n  \"fields\": [\n    {\n      \"column\": \"Month\",\n      \"properties\": {\n        \"dtype\": \"date\",\n        \"min\": \"1964-01-01 00:00:00\",\n        \"max\": \"1972-09-01 00:00:00\",\n        \"num_unique_values\": 105,\n        \"samples\": [\n          \"1966-07-01 00:00:00\",\n          \"1969-06-01 00:00:00\",\n          \"1969-05-01 00:00:00\"\n        ],\n        \"semantic_type\": \"\",\n        \"description\": \"\"\n      }\n    },\n    {\n      \"column\": \"Sales\",\n      \"properties\": {\n        \"dtype\": \"number\",\n        \"std\": 2553,\n        \"min\": 1413,\n        \"max\": 13916,\n        \"num_unique_values\": 103,\n        \"samples\": [\n          3260,\n          5222,\n          4510\n        ],\n        \"semantic_type\": \"\",\n        \"description\": \"\"\n      }\n    }\n  ]\n}"
            }
          },
          "metadata": {},
          "execution_count": 2
        }
      ]
    },
    {
      "cell_type": "code",
      "source": [
        "data.plot(figsize=(10,5))"
      ],
      "metadata": {
        "colab": {
          "base_uri": "https://localhost:8080/",
          "height": 483
        },
        "id": "MqKMUUbk6H3L",
        "outputId": "64b84502-2ebf-4188-fcbf-fdc41b3ab568"
      },
      "execution_count": null,
      "outputs": [
        {
          "output_type": "execute_result",
          "data": {
            "text/plain": [
              "<Axes: xlabel='Month'>"
            ]
          },
          "metadata": {},
          "execution_count": 3
        },
        {
          "output_type": "display_data",
          "data": {
            "text/plain": [
              "<Figure size 1000x500 with 1 Axes>"
            ],
            "image/png": "[encoded data removed]"
          },
          "metadata": {}
        }
      ]
    },
    {
      "cell_type": "code",
      "source": [
        "scalar=MinMaxScaler()\n",
        "traindata=data[:53]\n",
        "testdata=data[52:]"
      ],
      "metadata": {
        "id": "bvw8tRqF6KZW"
      },
      "execution_count": null,
      "outputs": []
    },
    {
      "cell_type": "code",
      "source": [
        "scaledtraindata=scalar.fit_transform(traindata)\n",
        "scaledtestdata=scalar.fit_transform(testdata)"
      ],
      "metadata": {
        "id": "6-UlhHSN6M0x"
      },
      "execution_count": null,
      "outputs": []
    },
    {
      "cell_type": "code",
      "source": [
        "n_input=12\n",
        "n_features=1\n",
        "generator=TimeseriesGenerator(scaledtraindata,scaledtraindata,length=12,batch_size=1)"
      ],
      "metadata": {
        "id": "D_RJ5UTr6Oyn"
      },
      "execution_count": null,
      "outputs": []
    },
    {
      "cell_type": "code",
      "source": [
        "x,y=generator[0]\n",
        "print(x.flatten(),y)"
      ],
      "metadata": {
        "colab": {
          "base_uri": "https://localhost:8080/"
        },
        "id": "yBKoNeGz6Q4Q",
        "outputId": "88c57762-80db-45c5-88be-28b6bee983a2"
      },
      "execution_count": null,
      "outputs": [
        {
          "output_type": "stream",
          "name": "stdout",
          "text": [
            "[0.13681428 0.12106191 0.13020489 0.12645957 0.15124477 0.16115885\n",
            " 0.0781009  0.07038995 0.14860101 0.30050672 0.46166557 0.63218771] [[0.10663142]]\n"
          ]
        }
      ]
    },
    {
      "cell_type": "code",
      "source": [
        "x,y=generator[1]\n",
        "print(x.flatten(),y)"
      ],
      "metadata": {
        "colab": {
          "base_uri": "https://localhost:8080/"
        },
        "id": "tV15fALo6WGa",
        "outputId": "0b84a07b-dd10-4558-967d-8ed69484cb37"
      },
      "execution_count": null,
      "outputs": [
        {
          "output_type": "stream",
          "name": "stdout",
          "text": [
            "[0.12106191 0.13020489 0.12645957 0.15124477 0.16115885 0.0781009\n",
            " 0.07038995 0.14860101 0.30050672 0.46166557 0.63218771 0.10663142] [[0.09936109]]\n"
          ]
        }
      ]
    },
    {
      "cell_type": "code",
      "source": [
        "x,y=generator[2]\n",
        "print(x.flatten(),y)"
      ],
      "metadata": {
        "colab": {
          "base_uri": "https://localhost:8080/"
        },
        "id": "_24IIRVu6Yly",
        "outputId": "9827cdba-ea6e-47ed-aee8-a691dbe9d2d2"
      },
      "execution_count": null,
      "outputs": [
        {
          "output_type": "stream",
          "name": "stdout",
          "text": [
            "[0.13020489 0.12645957 0.15124477 0.16115885 0.0781009  0.07038995\n",
            " 0.14860101 0.30050672 0.46166557 0.63218771 0.10663142 0.09936109] [[0.16060806]]\n"
          ]
        }
      ]
    },
    {
      "cell_type": "code",
      "source": [
        "model=Sequential()\n",
        "model.add(LSTM(100,activation='relu',input_shape=(12,1)))\n",
        "model.add(Dense(1,activation='tanh'))"
      ],
      "metadata": {
        "id": "N4Xecr_C6atE"
      },
      "execution_count": null,
      "outputs": []
    },
    {
      "cell_type": "code",
      "source": [
        "model.compile(optimizer='adam',loss='mse')\n",
        "model.summary()\n"
      ],
      "metadata": {
        "colab": {
          "base_uri": "https://localhost:8080/"
        },
        "id": "uBEbVj426cxh",
        "outputId": "59b24c7a-5089-47e3-8558-905255eb4773"
      },
      "execution_count": null,
      "outputs": [
        {
          "output_type": "stream",
          "name": "stdout",
          "text": [
            "Model: \"sequential_1\"\n",
            "_________________________________________________________________\n",
            " Layer (type)                Output Shape              Param #   \n",
            "=================================================================\n",
            " lstm (LSTM)                 (None, 100)               40800     \n",
            "                                                                 \n",
            " dense (Dense)               (None, 1)                 101       \n",
            "                                                                 \n",
            "=================================================================\n",
            "Total params: 40901 (159.77 KB)\n",
            "Trainable params: 40901 (159.77 KB)\n",
            "Non-trainable params: 0 (0.00 Byte)\n",
            "_________________________________________________________________\n"
          ]
        }
      ]
    },
    {
      "cell_type": "code",
      "source": [
        "Trained_history=model.fit(generator,epochs=20)"
      ],
      "metadata": {
        "colab": {
          "base_uri": "https://localhost:8080/"
        },
        "id": "DjkJKTrV6iTh",
        "outputId": "02cdc94e-86a1-4593-f2ee-0a3c4343564e"
      },
      "execution_count": null,
      "outputs": [
        {
          "output_type": "stream",
          "name": "stdout",
          "text": [
            "Epoch 1/20\n",
            "41/41 [==============================] - 3s 15ms/step - loss: 0.0526\n",
            "Epoch 2/20\n",
            "41/41 [==============================] - 0s 8ms/step - loss: 0.0459\n",
            "Epoch 3/20\n",
            "41/41 [==============================] - 0s 8ms/step - loss: 0.0543\n",
            "Epoch 4/20\n",
            "41/41 [==============================] - 0s 8ms/step - loss: 0.0529\n",
            "Epoch 5/20\n",
            "41/41 [==============================] - 0s 8ms/step - loss: 0.0466\n",
            "Epoch 6/20\n",
            "41/41 [==============================] - 0s 8ms/step - loss: 0.0441\n",
            "Epoch 7/20\n",
            "41/41 [==============================] - 0s 8ms/step - loss: 0.0395\n",
            "Epoch 8/20\n",
            "41/41 [==============================] - 0s 9ms/step - loss: 0.0373\n",
            "Epoch 9/20\n",
            "41/41 [==============================] - 0s 8ms/step - loss: 0.0273\n",
            "Epoch 10/20\n",
            "41/41 [==============================] - 0s 8ms/step - loss: 0.0354\n",
            "Epoch 11/20\n",
            "41/41 [==============================] - 0s 8ms/step - loss: 0.0231\n",
            "Epoch 12/20\n",
            "41/41 [==============================] - 0s 8ms/step - loss: 0.0170\n",
            "Epoch 13/20\n",
            "41/41 [==============================] - 0s 8ms/step - loss: 0.0135\n",
            "Epoch 14/20\n",
            "41/41 [==============================] - 0s 8ms/step - loss: 0.0099\n",
            "Epoch 15/20\n",
            "41/41 [==============================] - 0s 8ms/step - loss: 0.0134\n",
            "Epoch 16/20\n",
            "41/41 [==============================] - 0s 8ms/step - loss: 0.0090\n",
            "Epoch 17/20\n",
            "41/41 [==============================] - 0s 8ms/step - loss: 0.0081\n",
            "Epoch 18/20\n",
            "41/41 [==============================] - 0s 8ms/step - loss: 0.0075\n",
            "Epoch 19/20\n",
            "41/41 [==============================] - 0s 9ms/step - loss: 0.0191\n",
            "Epoch 20/20\n",
            "41/41 [==============================] - 1s 14ms/step - loss: 0.0125\n"
          ]
        }
      ]
    },
    {
      "cell_type": "code",
      "source": [
        "hist=Trained_history.history\n",
        "hist.keys()"
      ],
      "metadata": {
        "colab": {
          "base_uri": "https://localhost:8080/"
        },
        "id": "3NpCnNfy6lcD",
        "outputId": "2a7eed6d-48d3-47e4-c9d7-02707f5e545e"
      },
      "execution_count": null,
      "outputs": [
        {
          "output_type": "execute_result",
          "data": {
            "text/plain": [
              "dict_keys(['loss'])"
            ]
          },
          "metadata": {},
          "execution_count": 14
        }
      ]
    },
    {
      "cell_type": "code",
      "source": [
        "loss=model.history.history['loss']\n",
        "plt.plot(range(len(loss)),loss)"
      ],
      "metadata": {
        "colab": {
          "base_uri": "https://localhost:8080/",
          "height": 448
        },
        "id": "jXRwQY2U6pfO",
        "outputId": "e5e8a41c-c558-492f-eb2f-990af3ea58ac"
      },
      "execution_count": null,
      "outputs": [
        {
          "output_type": "execute_result",
          "data": {
            "text/plain": [
              "[<matplotlib.lines.Line2D at 0x7c21288cd2d0>]"
            ]
          },
          "metadata": {},
          "execution_count": 15
        },
        {
          "output_type": "display_data",
          "data": {
            "text/plain": [
              "<Figure size 640x480 with 1 Axes>"
            ],
            "image/png": "[encoded data removed]"
          },
          "metadata": {}
        }
      ]
    },
    {
      "cell_type": "code",
      "source": [
        "test_prediction=[]\n",
        "first_batch=scaledtraindata[-n_input:]\n",
        "current_batch=first_batch.reshape(1,12,1)\n",
        "for i in range(len(testdata)):\n",
        "  current_pred=model.predict(current_batch)[0]\n",
        "  print(current_pred)\n",
        "  test_prediction.append(current_pred)\n",
        "  current_batch=np.append(current_batch[:,1:,:],[[current_pred]],axis=1)\n"
      ],
      "metadata": {
        "colab": {
          "base_uri": "https://localhost:8080/"
        },
        "id": "rbHQsfJH6rXk",
        "outputId": "3d5a1dc8-bc70-4838-c12f-41fff2523465"
      },
      "execution_count": null,
      "outputs": [
        {
          "output_type": "stream",
          "name": "stdout",
          "text": [
            "1/1 [==============================] - 0s 211ms/step\n",
            "[0.23079865]\n",
            "1/1 [==============================] - 0s 25ms/step\n",
            "[0.1992363]\n",
            "1/1 [==============================] - 0s 22ms/step\n",
            "[0.19245501]\n",
            "1/1 [==============================] - 0s 22ms/step\n",
            "[0.23704709]\n",
            "1/1 [==============================] - 0s 22ms/step\n",
            "[0.45292372]\n",
            "1/1 [==============================] - 0s 23ms/step\n",
            "[0.9167914]\n",
            "1/1 [==============================] - 0s 23ms/step\n",
            "[0.99535555]\n",
            "1/1 [==============================] - 0s 23ms/step\n",
            "[0.24483432]\n",
            "1/1 [==============================] - 0s 21ms/step\n",
            "[0.24053168]\n",
            "1/1 [==============================] - 0s 23ms/step\n",
            "[0.22550608]\n",
            "1/1 [==============================] - 0s 23ms/step\n",
            "[0.21652877]\n",
            "1/1 [==============================] - 0s 22ms/step\n",
            "[0.22929631]\n",
            "1/1 [==============================] - 0s 23ms/step\n",
            "[0.19477205]\n",
            "1/1 [==============================] - 0s 24ms/step\n",
            "[0.18589546]\n",
            "1/1 [==============================] - 0s 22ms/step\n",
            "[0.19977434]\n",
            "1/1 [==============================] - 0s 22ms/step\n",
            "[0.29694375]\n",
            "1/1 [==============================] - 0s 21ms/step\n",
            "[0.7021715]\n",
            "1/1 [==============================] - 0s 21ms/step\n",
            "[0.9813512]\n",
            "1/1 [==============================] - 0s 24ms/step\n",
            "[0.99531204]\n",
            "1/1 [==============================] - 0s 22ms/step\n",
            "[0.2563442]\n",
            "1/1 [==============================] - 0s 21ms/step\n",
            "[0.23265153]\n",
            "1/1 [==============================] - 0s 23ms/step\n",
            "[0.21711965]\n",
            "1/1 [==============================] - 0s 23ms/step\n",
            "[0.20660211]\n",
            "1/1 [==============================] - 0s 21ms/step\n",
            "[0.20337614]\n",
            "1/1 [==============================] - 0s 22ms/step\n",
            "[0.19337514]\n",
            "1/1 [==============================] - 0s 21ms/step\n",
            "[0.1895724]\n",
            "1/1 [==============================] - 0s 21ms/step\n",
            "[0.2182375]\n",
            "1/1 [==============================] - 0s 22ms/step\n",
            "[0.40391743]\n",
            "1/1 [==============================] - 0s 27ms/step\n",
            "[0.87220526]\n",
            "1/1 [==============================] - 0s 22ms/step\n",
            "[0.99610174]\n",
            "1/1 [==============================] - 0s 25ms/step\n",
            "[0.99534696]\n",
            "1/1 [==============================] - 0s 22ms/step\n",
            "[0.26780885]\n",
            "1/1 [==============================] - 0s 21ms/step\n",
            "[0.23885745]\n",
            "1/1 [==============================] - 0s 22ms/step\n",
            "[0.22246912]\n",
            "1/1 [==============================] - 0s 23ms/step\n",
            "[0.21157883]\n",
            "1/1 [==============================] - 0s 22ms/step\n",
            "[0.20525244]\n",
            "1/1 [==============================] - 0s 21ms/step\n",
            "[0.20025834]\n",
            "1/1 [==============================] - 0s 27ms/step\n",
            "[0.21159256]\n",
            "1/1 [==============================] - 0s 22ms/step\n",
            "[0.28853044]\n",
            "1/1 [==============================] - 0s 25ms/step\n",
            "[0.6153779]\n",
            "1/1 [==============================] - 0s 24ms/step\n",
            "[0.9556864]\n",
            "1/1 [==============================] - 0s 23ms/step\n",
            "[0.9975143]\n",
            "1/1 [==============================] - 0s 26ms/step\n",
            "[0.99512935]\n",
            "1/1 [==============================] - 0s 22ms/step\n",
            "[0.28103197]\n",
            "1/1 [==============================] - 0s 21ms/step\n",
            "[0.2498845]\n",
            "1/1 [==============================] - 0s 24ms/step\n",
            "[0.23268898]\n",
            "1/1 [==============================] - 0s 22ms/step\n",
            "[0.2212926]\n",
            "1/1 [==============================] - 0s 22ms/step\n",
            "[0.21466239]\n",
            "1/1 [==============================] - 0s 26ms/step\n",
            "[0.21059674]\n",
            "1/1 [==============================] - 0s 36ms/step\n",
            "[0.21329811]\n",
            "1/1 [==============================] - 0s 22ms/step\n",
            "[0.34115982]\n",
            "1/1 [==============================] - 0s 21ms/step\n",
            "[0.7854782]\n",
            "1/1 [==============================] - 0s 22ms/step\n",
            "[0.9889353]\n"
          ]
        }
      ]
    },
    {
      "cell_type": "code",
      "source": [
        "true_pred=scalar.inverse_transform(test_prediction)\n",
        "print(true_pred)"
      ],
      "metadata": {
        "colab": {
          "base_uri": "https://localhost:8080/"
        },
        "id": "KZDF5Gmw6tR5",
        "outputId": "5a6ab409-2599-4470-f5d4-b93dcf7ec58b"
      },
      "execution_count": null,
      "outputs": [
        {
          "output_type": "stream",
          "name": "stdout",
          "text": [
            "[[ 4298.67548104]\n",
            " [ 3904.05150351]\n",
            " [ 3819.26497285]\n",
            " [ 4376.79978035]\n",
            " [ 7075.90521008]\n",
            " [12875.64261729]\n",
            " [13857.93039757]\n",
            " [ 4474.16348742]\n",
            " [ 4420.36763215]\n",
            " [ 4232.50254546]\n",
            " [ 4120.25925267]\n",
            " [ 4279.89178564]\n",
            " [ 3848.23493846]\n",
            " [ 3737.25090967]\n",
            " [ 3910.77857046]\n",
            " [ 5125.68775573]\n",
            " [10192.25032073]\n",
            " [13682.83401316]\n",
            " [13857.38637465]\n",
            " [ 4618.07152236]\n",
            " [ 4321.8421008 ]\n",
            " [ 4127.6469721 ]\n",
            " [ 3996.14619957]\n",
            " [ 3955.81193057]\n",
            " [ 3830.76938078]\n",
            " [ 3783.22364086]\n",
            " [ 4141.62351705]\n",
            " [ 6463.17965019]\n",
            " [12318.18233347]\n",
            " [13867.26001799]\n",
            " [13857.82308346]\n",
            " [ 4761.41410881]\n",
            " [ 4399.43467361]\n",
            " [ 4194.53142259]\n",
            " [ 4058.37012495]\n",
            " [ 3979.27124211]\n",
            " [ 3916.83008018]\n",
            " [ 4058.54171574]\n",
            " [ 5020.49608055]\n",
            " [ 9107.06992102]\n",
            " [13361.94693917]\n",
            " [13884.92138666]\n",
            " [13855.10222363]\n",
            " [ 4926.74267352]\n",
            " [ 4537.30591725]\n",
            " [ 4322.31029586]\n",
            " [ 4179.82137825]\n",
            " [ 4096.92383675]\n",
            " [ 4046.09104329]\n",
            " [ 4079.86629626]\n",
            " [ 5678.52123642]\n",
            " [11233.8336181 ]\n",
            " [13777.65795296]]\n"
          ]
        }
      ]
    },
    {
      "cell_type": "code",
      "source": [
        "test_data_inverse=scalar.inverse_transform(scaledtestdata)\n",
        "print(test_data_inverse)"
      ],
      "metadata": {
        "colab": {
          "base_uri": "https://localhost:8080/"
        },
        "id": "HujRuU2V6wzI",
        "outputId": "91b7d44d-2a6f-40ec-bf51-7c845539c746"
      },
      "execution_count": null,
      "outputs": [
        {
          "output_type": "stream",
          "name": "stdout",
          "text": [
            "[[ 4647.]\n",
            " [ 4753.]\n",
            " [ 3965.]\n",
            " [ 1723.]\n",
            " [ 5048.]\n",
            " [ 6922.]\n",
            " [ 9858.]\n",
            " [11331.]\n",
            " [ 4016.]\n",
            " [ 3957.]\n",
            " [ 4510.]\n",
            " [ 4276.]\n",
            " [ 4968.]\n",
            " [ 4677.]\n",
            " [ 3523.]\n",
            " [ 1821.]\n",
            " [ 5222.]\n",
            " [ 6872.]\n",
            " [10803.]\n",
            " [13916.]\n",
            " [ 2639.]\n",
            " [ 2899.]\n",
            " [ 3370.]\n",
            " [ 3740.]\n",
            " [ 2927.]\n",
            " [ 3986.]\n",
            " [ 4217.]\n",
            " [ 1738.]\n",
            " [ 5221.]\n",
            " [ 6424.]\n",
            " [ 9842.]\n",
            " [13076.]\n",
            " [ 3934.]\n",
            " [ 3162.]\n",
            " [ 4286.]\n",
            " [ 4676.]\n",
            " [ 5010.]\n",
            " [ 4874.]\n",
            " [ 4633.]\n",
            " [ 1659.]\n",
            " [ 5951.]\n",
            " [ 6981.]\n",
            " [ 9851.]\n",
            " [12670.]\n",
            " [ 4348.]\n",
            " [ 3564.]\n",
            " [ 4577.]\n",
            " [ 4788.]\n",
            " [ 4618.]\n",
            " [ 5312.]\n",
            " [ 4298.]\n",
            " [ 1413.]\n",
            " [ 5877.]]\n"
          ]
        }
      ]
    },
    {
      "cell_type": "code",
      "source": [
        "df=pd.DataFrame({'truevalue':test_data_inverse[:,0],'predictedvalue':true_pred[:,0]})\n",
        "print(df)"
      ],
      "metadata": {
        "colab": {
          "base_uri": "https://localhost:8080/"
        },
        "id": "aUm0lAkf6zKT",
        "outputId": "416630fc-1218-4278-aaa1-326573a90624"
      },
      "execution_count": null,
      "outputs": [
        {
          "output_type": "stream",
          "name": "stdout",
          "text": [
            "    truevalue  predictedvalue\n",
            "0      4647.0     4298.675481\n",
            "1      4753.0     3904.051504\n",
            "2      3965.0     3819.264973\n",
            "3      1723.0     4376.799780\n",
            "4      5048.0     7075.905210\n",
            "5      6922.0    12875.642617\n",
            "6      9858.0    13857.930398\n",
            "7     11331.0     4474.163487\n",
            "8      4016.0     4420.367632\n",
            "9      3957.0     4232.502545\n",
            "10     4510.0     4120.259253\n",
            "11     4276.0     4279.891786\n",
            "12     4968.0     3848.234938\n",
            "13     4677.0     3737.250910\n",
            "14     3523.0     3910.778570\n",
            "15     1821.0     5125.687756\n",
            "16     5222.0    10192.250321\n",
            "17     6872.0    13682.834013\n",
            "18    10803.0    13857.386375\n",
            "19    13916.0     4618.071522\n",
            "20     2639.0     4321.842101\n",
            "21     2899.0     4127.646972\n",
            "22     3370.0     3996.146200\n",
            "23     3740.0     3955.811931\n",
            "24     2927.0     3830.769381\n",
            "25     3986.0     3783.223641\n",
            "26     4217.0     4141.623517\n",
            "27     1738.0     6463.179650\n",
            "28     5221.0    12318.182333\n",
            "29     6424.0    13867.260018\n",
            "30     9842.0    13857.823083\n",
            "31    13076.0     4761.414109\n",
            "32     3934.0     4399.434674\n",
            "33     3162.0     4194.531423\n",
            "34     4286.0     4058.370125\n",
            "35     4676.0     3979.271242\n",
            "36     5010.0     3916.830080\n",
            "37     4874.0     4058.541716\n",
            "38     4633.0     5020.496081\n",
            "39     1659.0     9107.069921\n",
            "40     5951.0    13361.946939\n",
            "41     6981.0    13884.921387\n",
            "42     9851.0    13855.102224\n",
            "43    12670.0     4926.742674\n",
            "44     4348.0     4537.305917\n",
            "45     3564.0     4322.310296\n",
            "46     4577.0     4179.821378\n",
            "47     4788.0     4096.923837\n",
            "48     4618.0     4046.091043\n",
            "49     5312.0     4079.866296\n",
            "50     4298.0     5678.521236\n",
            "51     1413.0    11233.833618\n",
            "52     5877.0    13777.657953\n"
          ]
        }
      ]
    },
    {
      "cell_type": "code",
      "source": [
        "plt.plot(df['truevalue'])\n",
        "plt.plot(df['predictedvalue'])"
      ],
      "metadata": {
        "colab": {
          "base_uri": "https://localhost:8080/",
          "height": 448
        },
        "id": "Btt6-cbF61Zf",
        "outputId": "86569f50-80e7-4af6-ad37-6786c1553da6"
      },
      "execution_count": null,
      "outputs": [
        {
          "output_type": "execute_result",
          "data": {
            "text/plain": [
              "[<matplotlib.lines.Line2D at 0x7c212b7d1de0>]"
            ]
          },
          "metadata": {},
          "execution_count": 20
        },
        {
          "output_type": "display_data",
          "data": {
            "text/plain": [
              "<Figure size 640x480 with 1 Axes>"
            ],
            "image/png": "[encoded data removed]"
          },
          "metadata": {}
        }
      ]
    },
    {
      "cell_type": "code",
      "source": [],
      "metadata": {
        "id": "fv1NAapu638y"
      },
      "execution_count": null,
      "outputs": []
    }
  ]
}